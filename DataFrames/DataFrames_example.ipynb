{
 "cells": [
  {
   "cell_type": "markdown",
   "metadata": {},
   "source": [
    "### Create SparkSession object"
   ]
  },
  {
   "cell_type": "code",
   "execution_count": 247,
   "metadata": {},
   "outputs": [],
   "source": [
    "from pyspark.sql import SparkSession\n",
    "from pyspark.sql import types as T\n",
    "from pyspark.sql import functions as F\n",
    "from time import time\n",
    "\n",
    "spark = SparkSession \\\n",
    "    .builder \\\n",
    "    .appName(\"Data Source API using PySpark Demo\") \\\n",
    "    .getOrCreate()"
   ]
  },
  {
   "cell_type": "code",
   "execution_count": 2,
   "metadata": {},
   "outputs": [
    {
     "data": {
      "text/html": [
       "\n",
       "            <div>\n",
       "                <p><b>SparkSession - in-memory</b></p>\n",
       "                \n",
       "        <div>\n",
       "            <p><b>SparkContext</b></p>\n",
       "\n",
       "            <p><a href=\"http://ipc-upendra.domain:4040\">Spark UI</a></p>\n",
       "\n",
       "            <dl>\n",
       "              <dt>Version</dt>\n",
       "                <dd><code>v2.4.0</code></dd>\n",
       "              <dt>Master</dt>\n",
       "                <dd><code>local[*]</code></dd>\n",
       "              <dt>AppName</dt>\n",
       "                <dd><code>Data Source API using PySpark Demo</code></dd>\n",
       "            </dl>\n",
       "        </div>\n",
       "        \n",
       "            </div>\n",
       "        "
      ],
      "text/plain": [
       "<pyspark.sql.session.SparkSession at 0x11f0600f0>"
      ]
     },
     "execution_count": 2,
     "metadata": {},
     "output_type": "execute_result"
    }
   ],
   "source": [
    "spark"
   ]
  },
  {
   "cell_type": "markdown",
   "metadata": {},
   "source": [
    "### Data Source API for CSV file format using PySpark"
   ]
  },
  {
   "cell_type": "markdown",
   "metadata": {},
   "source": [
    "<a href='https://spark.apache.org/docs/latest/api/python/pyspark.sql.html#pyspark.sql.DataFrameReader'>PySpark API Docs</a>\n",
    "<br/>\n",
    "<a href='https://spark.apache.org/docs/2.4.3/sql-data-sources.html#data-sources'>Spark Data Source Guide</a> "
   ]
  },
  {
   "cell_type": "code",
   "execution_count": 3,
   "metadata": {},
   "outputs": [],
   "source": [
    "# Read in the transaction details csv file\n",
    "transaction_detail_df = spark.read.csv(\"transaction_detail.csv\")"
   ]
  },
  {
   "cell_type": "code",
   "execution_count": 4,
   "metadata": {},
   "outputs": [
    {
     "name": "stdout",
     "output_type": "stream",
     "text": [
      "root\n",
      " |-- _c0: string (nullable = true)\n",
      " |-- _c1: string (nullable = true)\n",
      " |-- _c2: string (nullable = true)\n",
      " |-- _c3: string (nullable = true)\n",
      " |-- _c4: string (nullable = true)\n",
      " |-- _c5: string (nullable = true)\n",
      " |-- _c6: string (nullable = true)\n",
      " |-- _c7: string (nullable = true)\n",
      "\n"
     ]
    }
   ],
   "source": [
    "transaction_detail_df.printSchema()"
   ]
  },
  {
   "cell_type": "code",
   "execution_count": 9,
   "metadata": {},
   "outputs": [
    {
     "name": "stdout",
     "output_type": "stream",
     "text": [
      "+------------------+---------------------+----------------------------------+------------------------+--------------------+--------------+---------------------+------------------------+\n",
      "|_c0               |_c1                  |_c2                               |_c3                     |_c4                 |_c5           |_c6                  |_c7                     |\n",
      "+------------------+---------------------+----------------------------------+------------------------+--------------------+--------------+---------------------+------------------------+\n",
      "|transaction_amount|transaction_card_type|transaction_ecommerce_website_name|transaction_country_name|transaction_datetime|transaction_id|transaction_city_name|transaction_product_name|\n",
      "|50.85             |MasterCard           |www.ebay.com                      |India                   |2019-05-14 15:24:12 |1             |Mumbai               |Laptop                  |\n",
      "|259.12            |MasterCard           |www.amazon.com                    |India                   |2019-05-14 15:24:13 |2             |Pune                 |Wrist Band              |\n",
      "|328.16            |MasterCard           |www.flipkart.com                  |United States           |2019-05-14 15:24:14 |3             |New York City        |TV Stand                |\n",
      "|399.06            |Visa                 |www.snapdeal.com                  |Inida                   |2019-05-14 15:24:15 |4             |New Delhi            |TV Stand                |\n",
      "+------------------+---------------------+----------------------------------+------------------------+--------------------+--------------+---------------------+------------------------+\n",
      "only showing top 5 rows\n",
      "\n"
     ]
    }
   ],
   "source": [
    "transaction_detail_df.show(5, False)"
   ]
  },
  {
   "cell_type": "code",
   "execution_count": 10,
   "metadata": {},
   "outputs": [
    {
     "data": {
      "text/html": [
       "<div>\n",
       "<style scoped>\n",
       "    .dataframe tbody tr th:only-of-type {\n",
       "        vertical-align: middle;\n",
       "    }\n",
       "\n",
       "    .dataframe tbody tr th {\n",
       "        vertical-align: top;\n",
       "    }\n",
       "\n",
       "    .dataframe thead th {\n",
       "        text-align: right;\n",
       "    }\n",
       "</style>\n",
       "<table border=\"1\" class=\"dataframe\">\n",
       "  <thead>\n",
       "    <tr style=\"text-align: right;\">\n",
       "      <th></th>\n",
       "      <th>_c0</th>\n",
       "      <th>_c1</th>\n",
       "      <th>_c2</th>\n",
       "      <th>_c3</th>\n",
       "      <th>_c4</th>\n",
       "      <th>_c5</th>\n",
       "      <th>_c6</th>\n",
       "      <th>_c7</th>\n",
       "    </tr>\n",
       "  </thead>\n",
       "  <tbody>\n",
       "    <tr>\n",
       "      <th>0</th>\n",
       "      <td>transaction_amount</td>\n",
       "      <td>transaction_card_type</td>\n",
       "      <td>transaction_ecommerce_website_name</td>\n",
       "      <td>transaction_country_name</td>\n",
       "      <td>transaction_datetime</td>\n",
       "      <td>transaction_id</td>\n",
       "      <td>transaction_city_name</td>\n",
       "      <td>transaction_product_name</td>\n",
       "    </tr>\n",
       "    <tr>\n",
       "      <th>1</th>\n",
       "      <td>50.85</td>\n",
       "      <td>MasterCard</td>\n",
       "      <td>www.ebay.com</td>\n",
       "      <td>India</td>\n",
       "      <td>2019-05-14 15:24:12</td>\n",
       "      <td>1</td>\n",
       "      <td>Mumbai</td>\n",
       "      <td>Laptop</td>\n",
       "    </tr>\n",
       "    <tr>\n",
       "      <th>2</th>\n",
       "      <td>259.12</td>\n",
       "      <td>MasterCard</td>\n",
       "      <td>www.amazon.com</td>\n",
       "      <td>India</td>\n",
       "      <td>2019-05-14 15:24:13</td>\n",
       "      <td>2</td>\n",
       "      <td>Pune</td>\n",
       "      <td>Wrist Band</td>\n",
       "    </tr>\n",
       "    <tr>\n",
       "      <th>3</th>\n",
       "      <td>328.16</td>\n",
       "      <td>MasterCard</td>\n",
       "      <td>www.flipkart.com</td>\n",
       "      <td>United States</td>\n",
       "      <td>2019-05-14 15:24:14</td>\n",
       "      <td>3</td>\n",
       "      <td>New York City</td>\n",
       "      <td>TV Stand</td>\n",
       "    </tr>\n",
       "    <tr>\n",
       "      <th>4</th>\n",
       "      <td>399.06</td>\n",
       "      <td>Visa</td>\n",
       "      <td>www.snapdeal.com</td>\n",
       "      <td>Inida</td>\n",
       "      <td>2019-05-14 15:24:15</td>\n",
       "      <td>4</td>\n",
       "      <td>New Delhi</td>\n",
       "      <td>TV Stand</td>\n",
       "    </tr>\n",
       "  </tbody>\n",
       "</table>\n",
       "</div>"
      ],
      "text/plain": [
       "                  _c0                    _c1  \\\n",
       "0  transaction_amount  transaction_card_type   \n",
       "1               50.85             MasterCard   \n",
       "2              259.12             MasterCard   \n",
       "3              328.16             MasterCard   \n",
       "4              399.06                   Visa   \n",
       "\n",
       "                                  _c2                       _c3  \\\n",
       "0  transaction_ecommerce_website_name  transaction_country_name   \n",
       "1                        www.ebay.com                     India   \n",
       "2                      www.amazon.com                     India   \n",
       "3                    www.flipkart.com             United States   \n",
       "4                    www.snapdeal.com                     Inida   \n",
       "\n",
       "                    _c4             _c5                    _c6  \\\n",
       "0  transaction_datetime  transaction_id  transaction_city_name   \n",
       "1   2019-05-14 15:24:12               1                 Mumbai   \n",
       "2   2019-05-14 15:24:13               2                   Pune   \n",
       "3   2019-05-14 15:24:14               3          New York City   \n",
       "4   2019-05-14 15:24:15               4              New Delhi   \n",
       "\n",
       "                        _c7  \n",
       "0  transaction_product_name  \n",
       "1                    Laptop  \n",
       "2                Wrist Band  \n",
       "3                  TV Stand  \n",
       "4                  TV Stand  "
      ]
     },
     "execution_count": 10,
     "metadata": {},
     "output_type": "execute_result"
    }
   ],
   "source": [
    "transaction_detail_df.limit(5).toPandas()"
   ]
  },
  {
   "cell_type": "code",
   "execution_count": 15,
   "metadata": {},
   "outputs": [],
   "source": [
    "transaction_detail_df = spark.read.csv(\"transaction_detail.csv\", header=True, inferSchema=True)"
   ]
  },
  {
   "cell_type": "code",
   "execution_count": 16,
   "metadata": {},
   "outputs": [
    {
     "name": "stdout",
     "output_type": "stream",
     "text": [
      "root\n",
      " |-- transaction_amount: double (nullable = true)\n",
      " |-- transaction_card_type: string (nullable = true)\n",
      " |-- transaction_ecommerce_website_name: string (nullable = true)\n",
      " |-- transaction_country_name: string (nullable = true)\n",
      " |-- transaction_datetime: timestamp (nullable = true)\n",
      " |-- transaction_id: integer (nullable = true)\n",
      " |-- transaction_city_name: string (nullable = true)\n",
      " |-- transaction_product_name: string (nullable = true)\n",
      "\n"
     ]
    }
   ],
   "source": [
    "transaction_detail_df.printSchema()"
   ]
  },
  {
   "cell_type": "code",
   "execution_count": 80,
   "metadata": {},
   "outputs": [],
   "source": [
    "# Schema without writing as a function\n",
    "\n",
    "schema = T.StructType([\n",
    "    T.StructField(\"transaction_amount\", T.DoubleType(), True),\n",
    "    T.StructField(\"transaction_card_type\", T.StringType(), True),\n",
    "    T.StructField(\"transaction_ecommerce_website_name\", T.StringType(), True),\n",
    "    T.StructField(\"transaction_country_name\", T.StringType(), True),\n",
    "    T.StructField(\"transaction_datetime\", T.TimestampType(), True),\n",
    "    T.StructField(\"transaction_id\", T.IntegerType(), True),\n",
    "    T.StructField(\"transaction_city_name\", T.StringType(), True),\n",
    "    T.StructField(\"transaction_product_name\", T.StringType(), True)\n",
    "])\n",
    "\n",
    "transaction_detail_df = spark.read.csv(\"transaction_detail.csv\", header=True, schema=schema)"
   ]
  },
  {
   "cell_type": "code",
   "execution_count": 148,
   "metadata": {},
   "outputs": [],
   "source": [
    "# Schema with a function\n",
    "\n",
    "schema = [\n",
    "    (\"transaction_amount\", T.DoubleType(), True),\n",
    "    (\"transaction_card_type\", T.StringType(), True),\n",
    "    (\"transaction_ecommerce_website_name\", T.StringType(), True),\n",
    "    (\"transaction_country_name\", T.StringType(), True),\n",
    "    (\"transaction_datetime\", T.TimestampType(), True),\n",
    "    (\"transaction_id\", T.IntegerType(), True),\n",
    "    (\"transaction_city_name\", T.StringType(), True),\n",
    "    (\"transaction_product_name\", T.StringType(), True)\n",
    "]\n",
    "\n",
    "def get_schema(*args):\n",
    "    return T.StructType([\n",
    "        T.StructField(*arg)\n",
    "        for arg in args\n",
    "    ])\n",
    "\n",
    "transaction_detail_df = spark.read.csv(\"transaction_detail.csv\", header=True, schema=get_schema(*schema))"
   ]
  },
  {
   "cell_type": "code",
   "execution_count": 149,
   "metadata": {},
   "outputs": [
    {
     "data": {
      "text/html": [
       "<div>\n",
       "<style scoped>\n",
       "    .dataframe tbody tr th:only-of-type {\n",
       "        vertical-align: middle;\n",
       "    }\n",
       "\n",
       "    .dataframe tbody tr th {\n",
       "        vertical-align: top;\n",
       "    }\n",
       "\n",
       "    .dataframe thead th {\n",
       "        text-align: right;\n",
       "    }\n",
       "</style>\n",
       "<table border=\"1\" class=\"dataframe\">\n",
       "  <thead>\n",
       "    <tr style=\"text-align: right;\">\n",
       "      <th></th>\n",
       "      <th>transaction_amount</th>\n",
       "      <th>transaction_card_type</th>\n",
       "      <th>transaction_ecommerce_website_name</th>\n",
       "      <th>transaction_country_name</th>\n",
       "      <th>transaction_datetime</th>\n",
       "      <th>transaction_id</th>\n",
       "      <th>transaction_city_name</th>\n",
       "      <th>transaction_product_name</th>\n",
       "    </tr>\n",
       "  </thead>\n",
       "  <tbody>\n",
       "    <tr>\n",
       "      <th>0</th>\n",
       "      <td>50.85</td>\n",
       "      <td>MasterCard</td>\n",
       "      <td>www.ebay.com</td>\n",
       "      <td>India</td>\n",
       "      <td>2019-05-14 15:24:12</td>\n",
       "      <td>1</td>\n",
       "      <td>Mumbai</td>\n",
       "      <td>Laptop</td>\n",
       "    </tr>\n",
       "    <tr>\n",
       "      <th>1</th>\n",
       "      <td>259.12</td>\n",
       "      <td>MasterCard</td>\n",
       "      <td>www.amazon.com</td>\n",
       "      <td>India</td>\n",
       "      <td>2019-05-14 15:24:13</td>\n",
       "      <td>2</td>\n",
       "      <td>Pune</td>\n",
       "      <td>Wrist Band</td>\n",
       "    </tr>\n",
       "    <tr>\n",
       "      <th>2</th>\n",
       "      <td>328.16</td>\n",
       "      <td>MasterCard</td>\n",
       "      <td>www.flipkart.com</td>\n",
       "      <td>United States</td>\n",
       "      <td>2019-05-14 15:24:14</td>\n",
       "      <td>3</td>\n",
       "      <td>New York City</td>\n",
       "      <td>TV Stand</td>\n",
       "    </tr>\n",
       "    <tr>\n",
       "      <th>3</th>\n",
       "      <td>399.06</td>\n",
       "      <td>Visa</td>\n",
       "      <td>www.snapdeal.com</td>\n",
       "      <td>Inida</td>\n",
       "      <td>2019-05-14 15:24:15</td>\n",
       "      <td>4</td>\n",
       "      <td>New Delhi</td>\n",
       "      <td>TV Stand</td>\n",
       "    </tr>\n",
       "    <tr>\n",
       "      <th>4</th>\n",
       "      <td>194.52</td>\n",
       "      <td>Visa</td>\n",
       "      <td>www.ebay.com</td>\n",
       "      <td>Italy</td>\n",
       "      <td>2019-05-14 15:24:16</td>\n",
       "      <td>5</td>\n",
       "      <td>Rome</td>\n",
       "      <td>External Hard Drive</td>\n",
       "    </tr>\n",
       "  </tbody>\n",
       "</table>\n",
       "</div>"
      ],
      "text/plain": [
       "   transaction_amount transaction_card_type  \\\n",
       "0               50.85            MasterCard   \n",
       "1              259.12            MasterCard   \n",
       "2              328.16            MasterCard   \n",
       "3              399.06                  Visa   \n",
       "4              194.52                  Visa   \n",
       "\n",
       "  transaction_ecommerce_website_name transaction_country_name  \\\n",
       "0                       www.ebay.com                    India   \n",
       "1                     www.amazon.com                    India   \n",
       "2                   www.flipkart.com            United States   \n",
       "3                   www.snapdeal.com                    Inida   \n",
       "4                       www.ebay.com                    Italy   \n",
       "\n",
       "  transaction_datetime  transaction_id transaction_city_name  \\\n",
       "0  2019-05-14 15:24:12               1                Mumbai   \n",
       "1  2019-05-14 15:24:13               2                  Pune   \n",
       "2  2019-05-14 15:24:14               3         New York City   \n",
       "3  2019-05-14 15:24:15               4             New Delhi   \n",
       "4  2019-05-14 15:24:16               5                  Rome   \n",
       "\n",
       "  transaction_product_name  \n",
       "0                   Laptop  \n",
       "1               Wrist Band  \n",
       "2                 TV Stand  \n",
       "3                 TV Stand  \n",
       "4      External Hard Drive  "
      ]
     },
     "execution_count": 149,
     "metadata": {},
     "output_type": "execute_result"
    }
   ],
   "source": [
    "transaction_detail_df.limit(5).toPandas()"
   ]
  },
  {
   "cell_type": "code",
   "execution_count": 150,
   "metadata": {},
   "outputs": [
    {
     "name": "stdout",
     "output_type": "stream",
     "text": [
      "root\n",
      " |-- transaction_amount: double (nullable = true)\n",
      " |-- transaction_card_type: string (nullable = true)\n",
      " |-- transaction_ecommerce_website_name: string (nullable = true)\n",
      " |-- transaction_country_name: string (nullable = true)\n",
      " |-- transaction_datetime: timestamp (nullable = true)\n",
      " |-- transaction_id: integer (nullable = true)\n",
      " |-- transaction_city_name: string (nullable = true)\n",
      " |-- transaction_product_name: string (nullable = true)\n",
      "\n"
     ]
    }
   ],
   "source": [
    "transaction_detail_df.printSchema()"
   ]
  },
  {
   "cell_type": "code",
   "execution_count": 151,
   "metadata": {},
   "outputs": [
    {
     "data": {
      "text/plain": [
       "1000"
      ]
     },
     "execution_count": 151,
     "metadata": {},
     "output_type": "execute_result"
    }
   ],
   "source": [
    "transaction_detail_df.count()"
   ]
  },
  {
   "cell_type": "code",
   "execution_count": 152,
   "metadata": {},
   "outputs": [
    {
     "data": {
      "text/html": [
       "<div>\n",
       "<style scoped>\n",
       "    .dataframe tbody tr th:only-of-type {\n",
       "        vertical-align: middle;\n",
       "    }\n",
       "\n",
       "    .dataframe tbody tr th {\n",
       "        vertical-align: top;\n",
       "    }\n",
       "\n",
       "    .dataframe thead th {\n",
       "        text-align: right;\n",
       "    }\n",
       "</style>\n",
       "<table border=\"1\" class=\"dataframe\">\n",
       "  <thead>\n",
       "    <tr style=\"text-align: right;\">\n",
       "      <th></th>\n",
       "      <th>transaction_amount</th>\n",
       "      <th>transaction_card_type</th>\n",
       "      <th>transaction_ecommerce_website_name</th>\n",
       "      <th>transaction_country_name</th>\n",
       "      <th>transaction_datetime</th>\n",
       "      <th>transaction_id</th>\n",
       "      <th>transaction_city_name</th>\n",
       "      <th>transaction_product_name</th>\n",
       "    </tr>\n",
       "  </thead>\n",
       "  <tbody>\n",
       "    <tr>\n",
       "      <th>0</th>\n",
       "      <td>50.85</td>\n",
       "      <td>MasterCard</td>\n",
       "      <td>www.ebay.com</td>\n",
       "      <td>India</td>\n",
       "      <td>2019-05-14 15:24:12</td>\n",
       "      <td>1</td>\n",
       "      <td>Mumbai</td>\n",
       "      <td>Laptop</td>\n",
       "    </tr>\n",
       "    <tr>\n",
       "      <th>1</th>\n",
       "      <td>259.12</td>\n",
       "      <td>MasterCard</td>\n",
       "      <td>www.amazon.com</td>\n",
       "      <td>India</td>\n",
       "      <td>2019-05-14 15:24:13</td>\n",
       "      <td>2</td>\n",
       "      <td>Pune</td>\n",
       "      <td>Wrist Band</td>\n",
       "    </tr>\n",
       "    <tr>\n",
       "      <th>2</th>\n",
       "      <td>328.16</td>\n",
       "      <td>MasterCard</td>\n",
       "      <td>www.flipkart.com</td>\n",
       "      <td>United States</td>\n",
       "      <td>2019-05-14 15:24:14</td>\n",
       "      <td>3</td>\n",
       "      <td>New York City</td>\n",
       "      <td>TV Stand</td>\n",
       "    </tr>\n",
       "    <tr>\n",
       "      <th>3</th>\n",
       "      <td>399.06</td>\n",
       "      <td>Visa</td>\n",
       "      <td>www.snapdeal.com</td>\n",
       "      <td>Inida</td>\n",
       "      <td>2019-05-14 15:24:15</td>\n",
       "      <td>4</td>\n",
       "      <td>New Delhi</td>\n",
       "      <td>TV Stand</td>\n",
       "    </tr>\n",
       "    <tr>\n",
       "      <th>4</th>\n",
       "      <td>194.52</td>\n",
       "      <td>Visa</td>\n",
       "      <td>www.ebay.com</td>\n",
       "      <td>Italy</td>\n",
       "      <td>2019-05-14 15:24:16</td>\n",
       "      <td>5</td>\n",
       "      <td>Rome</td>\n",
       "      <td>External Hard Drive</td>\n",
       "    </tr>\n",
       "  </tbody>\n",
       "</table>\n",
       "</div>"
      ],
      "text/plain": [
       "   transaction_amount transaction_card_type  \\\n",
       "0               50.85            MasterCard   \n",
       "1              259.12            MasterCard   \n",
       "2              328.16            MasterCard   \n",
       "3              399.06                  Visa   \n",
       "4              194.52                  Visa   \n",
       "\n",
       "  transaction_ecommerce_website_name transaction_country_name  \\\n",
       "0                       www.ebay.com                    India   \n",
       "1                     www.amazon.com                    India   \n",
       "2                   www.flipkart.com            United States   \n",
       "3                   www.snapdeal.com                    Inida   \n",
       "4                       www.ebay.com                    Italy   \n",
       "\n",
       "  transaction_datetime  transaction_id transaction_city_name  \\\n",
       "0  2019-05-14 15:24:12               1                Mumbai   \n",
       "1  2019-05-14 15:24:13               2                  Pune   \n",
       "2  2019-05-14 15:24:14               3         New York City   \n",
       "3  2019-05-14 15:24:15               4             New Delhi   \n",
       "4  2019-05-14 15:24:16               5                  Rome   \n",
       "\n",
       "  transaction_product_name  \n",
       "0                   Laptop  \n",
       "1               Wrist Band  \n",
       "2                 TV Stand  \n",
       "3                 TV Stand  \n",
       "4      External Hard Drive  "
      ]
     },
     "execution_count": 152,
     "metadata": {},
     "output_type": "execute_result"
    }
   ],
   "source": [
    "transaction_detail_df.limit(5).toPandas()"
   ]
  },
  {
   "cell_type": "markdown",
   "metadata": {},
   "source": [
    "## Performing Transformations"
   ]
  },
  {
   "cell_type": "markdown",
   "metadata": {},
   "source": [
    "### collect()"
   ]
  },
  {
   "cell_type": "code",
   "execution_count": 153,
   "metadata": {},
   "outputs": [],
   "source": [
    "# transaction_detail_df.collect() # Do not use this for big datasets"
   ]
  },
  {
   "cell_type": "markdown",
   "metadata": {},
   "source": [
    "### select()"
   ]
  },
  {
   "cell_type": "code",
   "execution_count": 202,
   "metadata": {},
   "outputs": [
    {
     "name": "stdout",
     "output_type": "stream",
     "text": [
      "+---------------------+------------------------+------------------+--------------------+\n",
      "|transaction_card_type|transaction_country_name|transaction_amount|transaction_datetime|\n",
      "+---------------------+------------------------+------------------+--------------------+\n",
      "|           MasterCard|                   India|             50.85| 2019-05-14 15:24:12|\n",
      "|           MasterCard|                   India|            259.12| 2019-05-14 15:24:13|\n",
      "|           MasterCard|           United States|            328.16| 2019-05-14 15:24:14|\n",
      "|                 Visa|                   Inida|            399.06| 2019-05-14 15:24:15|\n",
      "|                 Visa|                   Italy|            194.52| 2019-05-14 15:24:16|\n",
      "+---------------------+------------------------+------------------+--------------------+\n",
      "only showing top 5 rows\n",
      "\n"
     ]
    }
   ],
   "source": [
    "transaction_detail_df_stg1 = transaction_detail_df.select(\"transaction_card_type\", \"transaction_country_name\", \"transaction_amount\", \"transaction_datetime\")\n",
    "transaction_detail_df_stg1.show(5)"
   ]
  },
  {
   "cell_type": "markdown",
   "metadata": {},
   "source": [
    "### groupby() and aggregate"
   ]
  },
  {
   "cell_type": "code",
   "execution_count": 227,
   "metadata": {},
   "outputs": [
    {
     "name": "stdout",
     "output_type": "stream",
     "text": [
      "+---------------------+-----------------------+\n",
      "|transaction_card_type|sum(transaction_amount)|\n",
      "+---------------------+-----------------------+\n",
      "|              Maestro|      91002.73999999998|\n",
      "|                 Visa|      88020.94000000006|\n",
      "|           MasterCard|     100876.58000000007|\n",
      "+---------------------+-----------------------+\n",
      "\n"
     ]
    }
   ],
   "source": [
    "transaction_detail_df_stg1.groupby('transaction_card_type').agg({'transaction_amount': 'sum'}).show()"
   ]
  },
  {
   "cell_type": "code",
   "execution_count": 235,
   "metadata": {},
   "outputs": [
    {
     "name": "stdout",
     "output_type": "stream",
     "text": [
      "+---------------------+------------------+-----+\n",
      "|transaction_card_type|               sum|count|\n",
      "+---------------------+------------------+-----+\n",
      "|              Maestro| 91002.73999999998|  330|\n",
      "|                 Visa| 88020.94000000006|  308|\n",
      "|           MasterCard|100876.58000000007|  362|\n",
      "+---------------------+------------------+-----+\n",
      "\n"
     ]
    }
   ],
   "source": [
    "transaction_detail_df_stg1.groupby('transaction_card_type').\\\n",
    "        agg(F.sum('transaction_amount').alias('sum'),\n",
    "            F.count('transaction_amount').alias('count')\n",
    "            ).show()"
   ]
  },
  {
   "cell_type": "markdown",
   "metadata": {},
   "source": [
    "### filter() and where()"
   ]
  },
  {
   "cell_type": "code",
   "execution_count": 205,
   "metadata": {},
   "outputs": [
    {
     "name": "stdout",
     "output_type": "stream",
     "text": [
      "+---------------------+------------------------+------------------+--------------------+\n",
      "|transaction_card_type|transaction_country_name|transaction_amount|transaction_datetime|\n",
      "+---------------------+------------------------+------------------+--------------------+\n",
      "|           MasterCard|                   India|             50.85| 2019-05-14 15:24:12|\n",
      "|           MasterCard|                   India|            259.12| 2019-05-14 15:24:13|\n",
      "|              Maestro|                   India|            415.65| 2019-05-14 15:24:17|\n",
      "|           MasterCard|                   India|            467.12| 2019-05-14 15:24:18|\n",
      "|                 Visa|                   India|            361.61| 2019-05-14 15:24:19|\n",
      "+---------------------+------------------------+------------------+--------------------+\n",
      "only showing top 5 rows\n",
      "\n",
      "+---------------------+------------------------+------------------+--------------------+\n",
      "|transaction_card_type|transaction_country_name|transaction_amount|transaction_datetime|\n",
      "+---------------------+------------------------+------------------+--------------------+\n",
      "|           MasterCard|                   India|             50.85| 2019-05-14 15:24:12|\n",
      "|           MasterCard|                   India|            259.12| 2019-05-14 15:24:13|\n",
      "|              Maestro|                   India|            415.65| 2019-05-14 15:24:17|\n",
      "|           MasterCard|                   India|            467.12| 2019-05-14 15:24:18|\n",
      "|                 Visa|                   India|            361.61| 2019-05-14 15:24:19|\n",
      "+---------------------+------------------------+------------------+--------------------+\n",
      "only showing top 5 rows\n",
      "\n"
     ]
    }
   ],
   "source": [
    "transaction_detail_df_stg1.filter(transaction_detail_df_stg1.transaction_country_name == 'India').show(5)\n",
    "transaction_detail_df_stg1.where(transaction_detail_df_stg1.transaction_country_name == 'India').show(5)"
   ]
  },
  {
   "cell_type": "code",
   "execution_count": 206,
   "metadata": {},
   "outputs": [
    {
     "name": "stdout",
     "output_type": "stream",
     "text": [
      "+---------------------+------------------------+------------------+--------------------+\n",
      "|transaction_card_type|transaction_country_name|transaction_amount|transaction_datetime|\n",
      "+---------------------+------------------------+------------------+--------------------+\n",
      "|           MasterCard|                   India|             50.85| 2019-05-14 15:24:12|\n",
      "|           MasterCard|                   India|            259.12| 2019-05-14 15:24:13|\n",
      "|              Maestro|                   India|            415.65| 2019-05-14 15:24:17|\n",
      "|           MasterCard|                   India|            467.12| 2019-05-14 15:24:18|\n",
      "|                 Visa|                   India|            361.61| 2019-05-14 15:24:19|\n",
      "+---------------------+------------------------+------------------+--------------------+\n",
      "only showing top 5 rows\n",
      "\n",
      "+---------------------+------------------------+------------------+--------------------+\n",
      "|transaction_card_type|transaction_country_name|transaction_amount|transaction_datetime|\n",
      "+---------------------+------------------------+------------------+--------------------+\n",
      "|           MasterCard|                   India|             50.85| 2019-05-14 15:24:12|\n",
      "|           MasterCard|                   India|            259.12| 2019-05-14 15:24:13|\n",
      "|              Maestro|                   India|            415.65| 2019-05-14 15:24:17|\n",
      "|           MasterCard|                   India|            467.12| 2019-05-14 15:24:18|\n",
      "|                 Visa|                   India|            361.61| 2019-05-14 15:24:19|\n",
      "+---------------------+------------------------+------------------+--------------------+\n",
      "only showing top 5 rows\n",
      "\n"
     ]
    }
   ],
   "source": [
    "transaction_detail_df_stg1.filter(F.col(\"transaction_country_name\") == 'India').show(5)\n",
    "transaction_detail_df_stg1.where(F.col(\"transaction_country_name\") == 'India').show(5)"
   ]
  },
  {
   "cell_type": "markdown",
   "metadata": {},
   "source": [
    "### isin()"
   ]
  },
  {
   "cell_type": "code",
   "execution_count": 207,
   "metadata": {},
   "outputs": [
    {
     "name": "stdout",
     "output_type": "stream",
     "text": [
      "+---------------------+------------------------+------------------+--------------------+\n",
      "|transaction_card_type|transaction_country_name|transaction_amount|transaction_datetime|\n",
      "+---------------------+------------------------+------------------+--------------------+\n",
      "|           MasterCard|                   India|             50.85| 2019-05-14 15:24:12|\n",
      "|           MasterCard|                   India|            259.12| 2019-05-14 15:24:13|\n",
      "|              Maestro|                   India|            415.65| 2019-05-14 15:24:17|\n",
      "|           MasterCard|                   India|            467.12| 2019-05-14 15:24:18|\n",
      "|                 Visa|                   India|            361.61| 2019-05-14 15:24:19|\n",
      "|              Maestro|                   India|            357.34| 2019-05-14 15:24:20|\n",
      "|                 Visa|                   India|            495.91| 2019-05-14 15:24:21|\n",
      "|                 Visa|                   India|            546.01| 2019-05-14 15:24:22|\n",
      "|           MasterCard|                   India|            384.41| 2019-05-14 15:24:23|\n",
      "|           MasterCard|                   India|            108.46| 2019-05-14 15:24:25|\n",
      "|                 Visa|                   India|            356.26| 2019-05-14 15:24:26|\n",
      "|              Maestro|                   India|            425.12| 2019-05-14 15:24:28|\n",
      "|           MasterCard|               Singapore|            526.77| 2019-05-14 15:24:29|\n",
      "|              Maestro|                   India|             238.7| 2019-05-14 15:24:30|\n",
      "|           MasterCard|                   India|             73.31| 2019-05-14 15:24:32|\n",
      "|           MasterCard|                   India|            383.26| 2019-05-14 15:24:33|\n",
      "|              Maestro|                   India|            126.14| 2019-05-14 15:24:34|\n",
      "|              Maestro|                   India|            223.35| 2019-05-14 15:24:35|\n",
      "|              Maestro|                   India|            226.29| 2019-05-14 15:24:38|\n",
      "|           MasterCard|                   India|             81.17| 2019-05-14 15:24:39|\n",
      "+---------------------+------------------------+------------------+--------------------+\n",
      "only showing top 20 rows\n",
      "\n"
     ]
    }
   ],
   "source": [
    "# transaction_detail_df_stg1.filter(F.col(\"transaction_country_name\").isin('India', 'Singapore')).show()\n",
    "transaction_detail_df_stg1.where(F.col(\"transaction_country_name\").isin('India', 'Singapore')).show()"
   ]
  },
  {
   "cell_type": "code",
   "execution_count": 208,
   "metadata": {},
   "outputs": [
    {
     "name": "stdout",
     "output_type": "stream",
     "text": [
      "+---------------------+------------------------+------------------+--------------------+\n",
      "|transaction_card_type|transaction_country_name|transaction_amount|transaction_datetime|\n",
      "+---------------------+------------------------+------------------+--------------------+\n",
      "|           MasterCard|                   India|             50.85| 2019-05-14 15:24:12|\n",
      "|           MasterCard|                   India|            259.12| 2019-05-14 15:24:13|\n",
      "|           MasterCard|                   India|            467.12| 2019-05-14 15:24:18|\n",
      "|           MasterCard|                   India|            384.41| 2019-05-14 15:24:23|\n",
      "|           MasterCard|                   India|            108.46| 2019-05-14 15:24:25|\n",
      "|           MasterCard|               Singapore|            526.77| 2019-05-14 15:24:29|\n",
      "|           MasterCard|                   India|             73.31| 2019-05-14 15:24:32|\n",
      "|           MasterCard|                   India|            383.26| 2019-05-14 15:24:33|\n",
      "|           MasterCard|                   India|             81.17| 2019-05-14 15:24:39|\n",
      "|           MasterCard|                   India|            420.44| 2019-05-14 15:24:45|\n",
      "+---------------------+------------------------+------------------+--------------------+\n",
      "only showing top 10 rows\n",
      "\n"
     ]
    }
   ],
   "source": [
    "transaction_detail_df_stg1.where(\n",
    "    (F.col(\"transaction_country_name\").isin(\"India\", \"Singapore\")) &\n",
    "    (F.col(\"transaction_card_type\") == \"MasterCard\")\n",
    ").show(10)"
   ]
  },
  {
   "cell_type": "markdown",
   "metadata": {},
   "source": [
    "### distinct()"
   ]
  },
  {
   "cell_type": "code",
   "execution_count": 209,
   "metadata": {},
   "outputs": [
    {
     "name": "stdout",
     "output_type": "stream",
     "text": [
      "+------------------------+\n",
      "|transaction_country_name|\n",
      "+------------------------+\n",
      "|               Singapore|\n",
      "|                  France|\n",
      "|                   India|\n",
      "|           United States|\n",
      "|                   Italy|\n",
      "|                Thailand|\n",
      "|                  Israel|\n",
      "|                   Inida|\n",
      "|          United Kingdom|\n",
      "+------------------------+\n",
      "\n"
     ]
    },
    {
     "data": {
      "text/plain": [
       "9"
      ]
     },
     "execution_count": 209,
     "metadata": {},
     "output_type": "execute_result"
    }
   ],
   "source": [
    "transaction_detail_df_stg1.select(\"transaction_country_name\").distinct().show()\n",
    "transaction_detail_df_stg1.select(\"transaction_country_name\").distinct().count()"
   ]
  },
  {
   "cell_type": "markdown",
   "metadata": {},
   "source": [
    "### sample()"
   ]
  },
  {
   "cell_type": "code",
   "execution_count": 210,
   "metadata": {},
   "outputs": [
    {
     "data": {
      "text/html": [
       "<div>\n",
       "<style scoped>\n",
       "    .dataframe tbody tr th:only-of-type {\n",
       "        vertical-align: middle;\n",
       "    }\n",
       "\n",
       "    .dataframe tbody tr th {\n",
       "        vertical-align: top;\n",
       "    }\n",
       "\n",
       "    .dataframe thead th {\n",
       "        text-align: right;\n",
       "    }\n",
       "</style>\n",
       "<table border=\"1\" class=\"dataframe\">\n",
       "  <thead>\n",
       "    <tr style=\"text-align: right;\">\n",
       "      <th></th>\n",
       "      <th>transaction_card_type</th>\n",
       "      <th>transaction_country_name</th>\n",
       "      <th>transaction_amount</th>\n",
       "      <th>transaction_datetime</th>\n",
       "    </tr>\n",
       "  </thead>\n",
       "  <tbody>\n",
       "    <tr>\n",
       "      <th>0</th>\n",
       "      <td>MasterCard</td>\n",
       "      <td>India</td>\n",
       "      <td>467.12</td>\n",
       "      <td>2019-05-14 15:24:18</td>\n",
       "    </tr>\n",
       "    <tr>\n",
       "      <th>1</th>\n",
       "      <td>MasterCard</td>\n",
       "      <td>India</td>\n",
       "      <td>384.41</td>\n",
       "      <td>2019-05-14 15:24:23</td>\n",
       "    </tr>\n",
       "    <tr>\n",
       "      <th>2</th>\n",
       "      <td>Visa</td>\n",
       "      <td>India</td>\n",
       "      <td>356.26</td>\n",
       "      <td>2019-05-14 15:24:26</td>\n",
       "    </tr>\n",
       "    <tr>\n",
       "      <th>3</th>\n",
       "      <td>Visa</td>\n",
       "      <td>United Kingdom</td>\n",
       "      <td>142.84</td>\n",
       "      <td>2019-05-14 15:24:27</td>\n",
       "    </tr>\n",
       "    <tr>\n",
       "      <th>4</th>\n",
       "      <td>Maestro</td>\n",
       "      <td>India</td>\n",
       "      <td>238.70</td>\n",
       "      <td>2019-05-14 15:24:30</td>\n",
       "    </tr>\n",
       "  </tbody>\n",
       "</table>\n",
       "</div>"
      ],
      "text/plain": [
       "  transaction_card_type transaction_country_name  transaction_amount  \\\n",
       "0            MasterCard                    India              467.12   \n",
       "1            MasterCard                    India              384.41   \n",
       "2                  Visa                    India              356.26   \n",
       "3                  Visa           United Kingdom              142.84   \n",
       "4               Maestro                    India              238.70   \n",
       "\n",
       "  transaction_datetime  \n",
       "0  2019-05-14 15:24:18  \n",
       "1  2019-05-14 15:24:23  \n",
       "2  2019-05-14 15:24:26  \n",
       "3  2019-05-14 15:24:27  \n",
       "4  2019-05-14 15:24:30  "
      ]
     },
     "execution_count": 210,
     "metadata": {},
     "output_type": "execute_result"
    }
   ],
   "source": [
    "transaction_detail_df_stg1.sample(withReplacement=False, fraction=0.2, seed=1234).limit(5).toPandas()"
   ]
  },
  {
   "cell_type": "markdown",
   "metadata": {},
   "source": [
    "### withColumn()"
   ]
  },
  {
   "cell_type": "code",
   "execution_count": 212,
   "metadata": {},
   "outputs": [
    {
     "data": {
      "text/html": [
       "<div>\n",
       "<style scoped>\n",
       "    .dataframe tbody tr th:only-of-type {\n",
       "        vertical-align: middle;\n",
       "    }\n",
       "\n",
       "    .dataframe tbody tr th {\n",
       "        vertical-align: top;\n",
       "    }\n",
       "\n",
       "    .dataframe thead th {\n",
       "        text-align: right;\n",
       "    }\n",
       "</style>\n",
       "<table border=\"1\" class=\"dataframe\">\n",
       "  <thead>\n",
       "    <tr style=\"text-align: right;\">\n",
       "      <th></th>\n",
       "      <th>transaction_card_type</th>\n",
       "      <th>transaction_country_name</th>\n",
       "      <th>transaction_amount</th>\n",
       "      <th>transaction_datetime</th>\n",
       "      <th>transaction_date</th>\n",
       "    </tr>\n",
       "  </thead>\n",
       "  <tbody>\n",
       "    <tr>\n",
       "      <th>0</th>\n",
       "      <td>MasterCard</td>\n",
       "      <td>India</td>\n",
       "      <td>50.85</td>\n",
       "      <td>2019-05-14 15:24:12</td>\n",
       "      <td>2019-05-14</td>\n",
       "    </tr>\n",
       "    <tr>\n",
       "      <th>1</th>\n",
       "      <td>MasterCard</td>\n",
       "      <td>India</td>\n",
       "      <td>259.12</td>\n",
       "      <td>2019-05-14 15:24:13</td>\n",
       "      <td>2019-05-14</td>\n",
       "    </tr>\n",
       "    <tr>\n",
       "      <th>2</th>\n",
       "      <td>MasterCard</td>\n",
       "      <td>United States</td>\n",
       "      <td>328.16</td>\n",
       "      <td>2019-05-14 15:24:14</td>\n",
       "      <td>2019-05-14</td>\n",
       "    </tr>\n",
       "    <tr>\n",
       "      <th>3</th>\n",
       "      <td>Visa</td>\n",
       "      <td>Inida</td>\n",
       "      <td>399.06</td>\n",
       "      <td>2019-05-14 15:24:15</td>\n",
       "      <td>2019-05-14</td>\n",
       "    </tr>\n",
       "    <tr>\n",
       "      <th>4</th>\n",
       "      <td>Visa</td>\n",
       "      <td>Italy</td>\n",
       "      <td>194.52</td>\n",
       "      <td>2019-05-14 15:24:16</td>\n",
       "      <td>2019-05-14</td>\n",
       "    </tr>\n",
       "  </tbody>\n",
       "</table>\n",
       "</div>"
      ],
      "text/plain": [
       "  transaction_card_type transaction_country_name  transaction_amount  \\\n",
       "0            MasterCard                    India               50.85   \n",
       "1            MasterCard                    India              259.12   \n",
       "2            MasterCard            United States              328.16   \n",
       "3                  Visa                    Inida              399.06   \n",
       "4                  Visa                    Italy              194.52   \n",
       "\n",
       "  transaction_datetime transaction_date  \n",
       "0  2019-05-14 15:24:12       2019-05-14  \n",
       "1  2019-05-14 15:24:13       2019-05-14  \n",
       "2  2019-05-14 15:24:14       2019-05-14  \n",
       "3  2019-05-14 15:24:15       2019-05-14  \n",
       "4  2019-05-14 15:24:16       2019-05-14  "
      ]
     },
     "execution_count": 212,
     "metadata": {},
     "output_type": "execute_result"
    }
   ],
   "source": [
    "transaction_detail_df_stg1.withColumn(\"transaction_date\",F.col(\"transaction_datetime\").cast(\"date\")).\\\n",
    "                        limit(5).toPandas()"
   ]
  },
  {
   "cell_type": "code",
   "execution_count": 213,
   "metadata": {},
   "outputs": [
    {
     "data": {
      "text/html": [
       "<div>\n",
       "<style scoped>\n",
       "    .dataframe tbody tr th:only-of-type {\n",
       "        vertical-align: middle;\n",
       "    }\n",
       "\n",
       "    .dataframe tbody tr th {\n",
       "        vertical-align: top;\n",
       "    }\n",
       "\n",
       "    .dataframe thead th {\n",
       "        text-align: right;\n",
       "    }\n",
       "</style>\n",
       "<table border=\"1\" class=\"dataframe\">\n",
       "  <thead>\n",
       "    <tr style=\"text-align: right;\">\n",
       "      <th></th>\n",
       "      <th>transaction_card_type</th>\n",
       "      <th>transaction_country_name</th>\n",
       "      <th>transaction_amount</th>\n",
       "      <th>transaction_datetime</th>\n",
       "      <th>transaction_country_capital</th>\n",
       "    </tr>\n",
       "  </thead>\n",
       "  <tbody>\n",
       "    <tr>\n",
       "      <th>0</th>\n",
       "      <td>MasterCard</td>\n",
       "      <td>India</td>\n",
       "      <td>50.85</td>\n",
       "      <td>2019-05-14 15:24:12</td>\n",
       "      <td>INDIA</td>\n",
       "    </tr>\n",
       "    <tr>\n",
       "      <th>1</th>\n",
       "      <td>MasterCard</td>\n",
       "      <td>India</td>\n",
       "      <td>259.12</td>\n",
       "      <td>2019-05-14 15:24:13</td>\n",
       "      <td>INDIA</td>\n",
       "    </tr>\n",
       "    <tr>\n",
       "      <th>2</th>\n",
       "      <td>MasterCard</td>\n",
       "      <td>United States</td>\n",
       "      <td>328.16</td>\n",
       "      <td>2019-05-14 15:24:14</td>\n",
       "      <td>UNITED STATES</td>\n",
       "    </tr>\n",
       "    <tr>\n",
       "      <th>3</th>\n",
       "      <td>Visa</td>\n",
       "      <td>Inida</td>\n",
       "      <td>399.06</td>\n",
       "      <td>2019-05-14 15:24:15</td>\n",
       "      <td>INIDA</td>\n",
       "    </tr>\n",
       "    <tr>\n",
       "      <th>4</th>\n",
       "      <td>Visa</td>\n",
       "      <td>Italy</td>\n",
       "      <td>194.52</td>\n",
       "      <td>2019-05-14 15:24:16</td>\n",
       "      <td>ITALY</td>\n",
       "    </tr>\n",
       "  </tbody>\n",
       "</table>\n",
       "</div>"
      ],
      "text/plain": [
       "  transaction_card_type transaction_country_name  transaction_amount  \\\n",
       "0            MasterCard                    India               50.85   \n",
       "1            MasterCard                    India              259.12   \n",
       "2            MasterCard            United States              328.16   \n",
       "3                  Visa                    Inida              399.06   \n",
       "4                  Visa                    Italy              194.52   \n",
       "\n",
       "  transaction_datetime transaction_country_capital  \n",
       "0  2019-05-14 15:24:12                       INDIA  \n",
       "1  2019-05-14 15:24:13                       INDIA  \n",
       "2  2019-05-14 15:24:14               UNITED STATES  \n",
       "3  2019-05-14 15:24:15                       INIDA  \n",
       "4  2019-05-14 15:24:16                       ITALY  "
      ]
     },
     "execution_count": 213,
     "metadata": {},
     "output_type": "execute_result"
    }
   ],
   "source": [
    "transaction_detail_df_stg1.withColumn(\"transaction_country_capital\",F.upper(F.col(\"transaction_country_name\"))).\\\n",
    "                    limit(5).toPandas()"
   ]
  },
  {
   "cell_type": "markdown",
   "metadata": {},
   "source": [
    "### withcolumnRenamed()"
   ]
  },
  {
   "cell_type": "code",
   "execution_count": 215,
   "metadata": {},
   "outputs": [
    {
     "data": {
      "text/html": [
       "<div>\n",
       "<style scoped>\n",
       "    .dataframe tbody tr th:only-of-type {\n",
       "        vertical-align: middle;\n",
       "    }\n",
       "\n",
       "    .dataframe tbody tr th {\n",
       "        vertical-align: top;\n",
       "    }\n",
       "\n",
       "    .dataframe thead th {\n",
       "        text-align: right;\n",
       "    }\n",
       "</style>\n",
       "<table border=\"1\" class=\"dataframe\">\n",
       "  <thead>\n",
       "    <tr style=\"text-align: right;\">\n",
       "      <th></th>\n",
       "      <th>transaction_card_type</th>\n",
       "      <th>transaction_country</th>\n",
       "      <th>transaction_amount</th>\n",
       "      <th>transaction_datetime</th>\n",
       "    </tr>\n",
       "  </thead>\n",
       "  <tbody>\n",
       "    <tr>\n",
       "      <th>0</th>\n",
       "      <td>MasterCard</td>\n",
       "      <td>India</td>\n",
       "      <td>50.85</td>\n",
       "      <td>2019-05-14 15:24:12</td>\n",
       "    </tr>\n",
       "    <tr>\n",
       "      <th>1</th>\n",
       "      <td>MasterCard</td>\n",
       "      <td>India</td>\n",
       "      <td>259.12</td>\n",
       "      <td>2019-05-14 15:24:13</td>\n",
       "    </tr>\n",
       "    <tr>\n",
       "      <th>2</th>\n",
       "      <td>MasterCard</td>\n",
       "      <td>United States</td>\n",
       "      <td>328.16</td>\n",
       "      <td>2019-05-14 15:24:14</td>\n",
       "    </tr>\n",
       "    <tr>\n",
       "      <th>3</th>\n",
       "      <td>Visa</td>\n",
       "      <td>Inida</td>\n",
       "      <td>399.06</td>\n",
       "      <td>2019-05-14 15:24:15</td>\n",
       "    </tr>\n",
       "    <tr>\n",
       "      <th>4</th>\n",
       "      <td>Visa</td>\n",
       "      <td>Italy</td>\n",
       "      <td>194.52</td>\n",
       "      <td>2019-05-14 15:24:16</td>\n",
       "    </tr>\n",
       "  </tbody>\n",
       "</table>\n",
       "</div>"
      ],
      "text/plain": [
       "  transaction_card_type transaction_country  transaction_amount  \\\n",
       "0            MasterCard               India               50.85   \n",
       "1            MasterCard               India              259.12   \n",
       "2            MasterCard       United States              328.16   \n",
       "3                  Visa               Inida              399.06   \n",
       "4                  Visa               Italy              194.52   \n",
       "\n",
       "  transaction_datetime  \n",
       "0  2019-05-14 15:24:12  \n",
       "1  2019-05-14 15:24:13  \n",
       "2  2019-05-14 15:24:14  \n",
       "3  2019-05-14 15:24:15  \n",
       "4  2019-05-14 15:24:16  "
      ]
     },
     "execution_count": 215,
     "metadata": {},
     "output_type": "execute_result"
    }
   ],
   "source": [
    "transaction_detail_df_stg1.withColumnRenamed(\"transaction_country_name\", \"transaction_country\").limit(5).toPandas()"
   ]
  },
  {
   "cell_type": "markdown",
   "metadata": {},
   "source": [
    "### drop()"
   ]
  },
  {
   "cell_type": "code",
   "execution_count": 217,
   "metadata": {},
   "outputs": [
    {
     "data": {
      "text/html": [
       "<div>\n",
       "<style scoped>\n",
       "    .dataframe tbody tr th:only-of-type {\n",
       "        vertical-align: middle;\n",
       "    }\n",
       "\n",
       "    .dataframe tbody tr th {\n",
       "        vertical-align: top;\n",
       "    }\n",
       "\n",
       "    .dataframe thead th {\n",
       "        text-align: right;\n",
       "    }\n",
       "</style>\n",
       "<table border=\"1\" class=\"dataframe\">\n",
       "  <thead>\n",
       "    <tr style=\"text-align: right;\">\n",
       "      <th></th>\n",
       "      <th>transaction_card_type</th>\n",
       "      <th>transaction_country_name</th>\n",
       "      <th>transaction_amount</th>\n",
       "    </tr>\n",
       "  </thead>\n",
       "  <tbody>\n",
       "    <tr>\n",
       "      <th>0</th>\n",
       "      <td>MasterCard</td>\n",
       "      <td>India</td>\n",
       "      <td>50.85</td>\n",
       "    </tr>\n",
       "    <tr>\n",
       "      <th>1</th>\n",
       "      <td>MasterCard</td>\n",
       "      <td>India</td>\n",
       "      <td>259.12</td>\n",
       "    </tr>\n",
       "    <tr>\n",
       "      <th>2</th>\n",
       "      <td>MasterCard</td>\n",
       "      <td>United States</td>\n",
       "      <td>328.16</td>\n",
       "    </tr>\n",
       "    <tr>\n",
       "      <th>3</th>\n",
       "      <td>Visa</td>\n",
       "      <td>Inida</td>\n",
       "      <td>399.06</td>\n",
       "    </tr>\n",
       "    <tr>\n",
       "      <th>4</th>\n",
       "      <td>Visa</td>\n",
       "      <td>Italy</td>\n",
       "      <td>194.52</td>\n",
       "    </tr>\n",
       "  </tbody>\n",
       "</table>\n",
       "</div>"
      ],
      "text/plain": [
       "  transaction_card_type transaction_country_name  transaction_amount\n",
       "0            MasterCard                    India               50.85\n",
       "1            MasterCard                    India              259.12\n",
       "2            MasterCard            United States              328.16\n",
       "3                  Visa                    Inida              399.06\n",
       "4                  Visa                    Italy              194.52"
      ]
     },
     "execution_count": 217,
     "metadata": {},
     "output_type": "execute_result"
    }
   ],
   "source": [
    "transaction_detail_df_stg1.drop(\"transaction_datetime\").limit(5).toPandas()"
   ]
  },
  {
   "cell_type": "code",
   "execution_count": 224,
   "metadata": {},
   "outputs": [
    {
     "data": {
      "text/plain": [
       "9"
      ]
     },
     "execution_count": 224,
     "metadata": {},
     "output_type": "execute_result"
    },
    {
     "data": {
      "text/plain": [
       "9"
      ]
     },
     "execution_count": 224,
     "metadata": {},
     "output_type": "execute_result"
    }
   ],
   "source": [
    "transaction_detail_df_stg1.select(\"transaction_country_name\").distinct().count()\n",
    "transaction_detail_df_stg1.select(\"transaction_country_name\").fillna(\"test\").distinct().count()"
   ]
  },
  {
   "cell_type": "markdown",
   "metadata": {},
   "source": [
    "### Sample Charts using seaborn Python package"
   ]
  },
  {
   "cell_type": "code",
   "execution_count": 37,
   "metadata": {},
   "outputs": [],
   "source": [
    "# import seaborn package\n",
    "import seaborn as sns\n",
    "sns.set()\n",
    "\n",
    "# Matplotlib for additional customization\n",
    "from matplotlib import pyplot as plt"
   ]
  },
  {
   "cell_type": "code",
   "execution_count": 38,
   "metadata": {},
   "outputs": [],
   "source": [
    "transaction_detail_count_by_country_pd_df = transaction_detail_count_by_country_df.toPandas()"
   ]
  },
  {
   "cell_type": "code",
   "execution_count": 39,
   "metadata": {},
   "outputs": [],
   "source": [
    "pkmn_type_colors = ['#78C850',  # Grass\n",
    "                    '#F08030',  # Fire\n",
    "                    '#6890F0',  # Water\n",
    "                    '#A8B820',  # Bug\n",
    "                    '#A8A878',  # Normal\n",
    "                    '#A040A0',  # Poison\n",
    "                    '#F8D030',  # Electric\n",
    "                    '#E0C068',  # Ground\n",
    "                    '#EE99AC',  # Fairy\n",
    "                    '#C03028',  # Fighting\n",
    "                    '#F85888',  # Psychic\n",
    "                    '#B8A038',  # Rock\n",
    "                    '#705898',  # Ghost\n",
    "                    '#98D8D8',  # Ice\n",
    "                    '#7038F8',  # Dragon\n",
    "                   ]"
   ]
  },
  {
   "cell_type": "code",
   "execution_count": 41,
   "metadata": {},
   "outputs": [
    {
     "data": {
      "image/png": "[encoded data removed]",
      "text/plain": [
       "<Figure size 432x288 with 1 Axes>"
      ]
     },
     "metadata": {},
     "output_type": "display_data"
    }
   ],
   "source": [
    "# Bar Plot\n",
    "sns.barplot(x='transaction_country_name', y='transaction_count', data=transaction_detail_count_by_country_pd_df, palette=pkmn_type_colors)\n",
    " \n",
    "# Rotate x-labels\n",
    "plt.xticks(rotation=-65);"
   ]
  },
  {
   "cell_type": "code",
   "execution_count": 42,
   "metadata": {},
   "outputs": [
    {
     "data": {
      "text/html": [
       "<div>\n",
       "<style scoped>\n",
       "    .dataframe tbody tr th:only-of-type {\n",
       "        vertical-align: middle;\n",
       "    }\n",
       "\n",
       "    .dataframe tbody tr th {\n",
       "        vertical-align: top;\n",
       "    }\n",
       "\n",
       "    .dataframe thead th {\n",
       "        text-align: right;\n",
       "    }\n",
       "</style>\n",
       "<table border=\"1\" class=\"dataframe\">\n",
       "  <thead>\n",
       "    <tr style=\"text-align: right;\">\n",
       "      <th></th>\n",
       "      <th>transaction_country_name</th>\n",
       "      <th>transaction_count</th>\n",
       "    </tr>\n",
       "  </thead>\n",
       "  <tbody>\n",
       "    <tr>\n",
       "      <th>0</th>\n",
       "      <td>Singapore</td>\n",
       "      <td>80</td>\n",
       "    </tr>\n",
       "    <tr>\n",
       "      <th>1</th>\n",
       "      <td>France</td>\n",
       "      <td>70</td>\n",
       "    </tr>\n",
       "    <tr>\n",
       "      <th>2</th>\n",
       "      <td>India</td>\n",
       "      <td>441</td>\n",
       "    </tr>\n",
       "    <tr>\n",
       "      <th>3</th>\n",
       "      <td>United States</td>\n",
       "      <td>68</td>\n",
       "    </tr>\n",
       "    <tr>\n",
       "      <th>4</th>\n",
       "      <td>Italy</td>\n",
       "      <td>75</td>\n",
       "    </tr>\n",
       "    <tr>\n",
       "      <th>5</th>\n",
       "      <td>Thailand</td>\n",
       "      <td>67</td>\n",
       "    </tr>\n",
       "    <tr>\n",
       "      <th>6</th>\n",
       "      <td>Israel</td>\n",
       "      <td>55</td>\n",
       "    </tr>\n",
       "    <tr>\n",
       "      <th>7</th>\n",
       "      <td>Inida</td>\n",
       "      <td>65</td>\n",
       "    </tr>\n",
       "    <tr>\n",
       "      <th>8</th>\n",
       "      <td>United Kingdom</td>\n",
       "      <td>79</td>\n",
       "    </tr>\n",
       "  </tbody>\n",
       "</table>\n",
       "</div>"
      ],
      "text/plain": [
       "  transaction_country_name  transaction_count\n",
       "0                Singapore                 80\n",
       "1                   France                 70\n",
       "2                    India                441\n",
       "3            United States                 68\n",
       "4                    Italy                 75\n",
       "5                 Thailand                 67\n",
       "6                   Israel                 55\n",
       "7                    Inida                 65\n",
       "8           United Kingdom                 79"
      ]
     },
     "execution_count": 42,
     "metadata": {},
     "output_type": "execute_result"
    }
   ],
   "source": [
    "transaction_detail_count_by_country_pd_df.head(25)"
   ]
  },
  {
   "cell_type": "code",
   "execution_count": 43,
   "metadata": {},
   "outputs": [
    {
     "data": {
      "image/png": "[encoded data removed]",
      "text/plain": [
       "<Figure size 432x288 with 1 Axes>"
      ]
     },
     "metadata": {},
     "output_type": "display_data"
    }
   ],
   "source": [
    "# Bar Plot - Horizontal\n",
    "sns.barplot(x='transaction_count', y='transaction_country_name', data=transaction_detail_count_by_country_pd_df, palette=pkmn_type_colors)\n",
    " \n",
    "# Rotate x-labels\n",
    "plt.xticks(rotation=-65);"
   ]
  }
 ],
 "metadata": {
  "kernelspec": {
   "display_name": "Python 3",
   "language": "python",
   "name": "python3"
  },
  "language_info": {
   "codemirror_mode": {
    "name": "ipython",
    "version": 3
   },
   "file_extension": ".py",
   "mimetype": "text/x-python",
   "name": "python",
   "nbconvert_exporter": "python",
   "pygments_lexer": "ipython3",
   "version": "3.6.7"
  }
 },
 "nbformat": 4,
 "nbformat_minor": 2
}
